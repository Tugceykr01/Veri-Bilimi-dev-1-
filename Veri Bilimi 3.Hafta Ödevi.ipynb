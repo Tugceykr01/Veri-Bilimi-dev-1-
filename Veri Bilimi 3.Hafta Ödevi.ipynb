{
 "cells": [
  {
   "cell_type": "code",
   "execution_count": null,
   "id": "d41d7db3-0deb-4964-a565-0d20beae1955",
   "metadata": {},
   "outputs": [],
   "source": [
    "a=5"
   ]
  },
  {
   "cell_type": "code",
   "execution_count": 24,
   "id": "013209ae-5826-45c0-9188-3388a3136be5",
   "metadata": {},
   "outputs": [
    {
     "data": {
      "text/plain": [
       "int"
      ]
     },
     "execution_count": 24,
     "metadata": {},
     "output_type": "execute_result"
    }
   ],
   "source": [
    "type(a)"
   ]
  },
  {
   "cell_type": "code",
   "execution_count": null,
   "id": "3fdeeb34-3f7b-438b-ad80-2b7948500678",
   "metadata": {},
   "outputs": [],
   "source": [
    "b=6.9"
   ]
  },
  {
   "cell_type": "code",
   "execution_count": 25,
   "id": "5d5c1e1b-859d-4aa9-8e44-9be3cf2ff907",
   "metadata": {},
   "outputs": [
    {
     "data": {
      "text/plain": [
       "float"
      ]
     },
     "execution_count": 25,
     "metadata": {},
     "output_type": "execute_result"
    }
   ],
   "source": [
    "type(b)"
   ]
  },
  {
   "cell_type": "code",
   "execution_count": 26,
   "id": "0c55b327-6c84-418a-a3c6-6b5f835deecc",
   "metadata": {},
   "outputs": [],
   "source": [
    "ali = 25\n",
    "ayse = 35\n",
    "fatma = 45"
   ]
  },
  {
   "cell_type": "code",
   "execution_count": 18,
   "id": "a477fd77-acd6-4767-bd95-a7980d06435e",
   "metadata": {},
   "outputs": [
    {
     "data": {
      "text/plain": [
       "True"
      ]
     },
     "execution_count": 18,
     "metadata": {},
     "output_type": "execute_result"
    }
   ],
   "source": [
    "ali<ayse"
   ]
  },
  {
   "cell_type": "code",
   "execution_count": 27,
   "id": "52613e69-32d9-4af9-9ab1-5179086fb3fc",
   "metadata": {},
   "outputs": [
    {
     "data": {
      "text/plain": [
       "False"
      ]
     },
     "execution_count": 27,
     "metadata": {},
     "output_type": "execute_result"
    }
   ],
   "source": [
    "ayse>fatma"
   ]
  },
  {
   "cell_type": "code",
   "execution_count": 20,
   "id": "cbc97b85-c83d-47c8-ac25-3c5f3b622c3d",
   "metadata": {},
   "outputs": [
    {
     "data": {
      "text/plain": [
       "False"
      ]
     },
     "execution_count": 20,
     "metadata": {},
     "output_type": "execute_result"
    }
   ],
   "source": [
    "ali==fatma"
   ]
  },
  {
   "cell_type": "code",
   "execution_count": 21,
   "id": "feafaf76-3170-4575-957b-ed0762eb8073",
   "metadata": {},
   "outputs": [
    {
     "data": {
      "text/plain": [
       "True"
      ]
     },
     "execution_count": 21,
     "metadata": {},
     "output_type": "execute_result"
    }
   ],
   "source": [
    "ali!=ayse"
   ]
  },
  {
   "cell_type": "code",
   "execution_count": 28,
   "id": "b84669ee-5f09-4f68-a132-a27fca956319",
   "metadata": {},
   "outputs": [
    {
     "name": "stdin",
     "output_type": "stream",
     "text": [
      "ilk sayıyı giriniz:  47\n",
      "ikinci sayıyı giriniz:  25\n"
     ]
    },
    {
     "name": "stdout",
     "output_type": "stream",
     "text": [
      "Toplama:  72\n",
      "Çıkarma:  22\n",
      "Çarpma:  1175\n",
      "Bölme:  1.88\n"
     ]
    }
   ],
   "source": [
    "sayi1 = int(input(\"ilk sayıyı giriniz: \"))\n",
    "sayi2 = int(input(\"ikinci sayıyı giriniz: \"))\n",
    "\n",
    "toplama = sayi1 + sayi2\n",
    "cikarma = sayi1 - sayi2\n",
    "carpma =  sayi1 * sayi2\n",
    "bolme =  sayi1 / sayi2 \n",
    "\n",
    "print(\"Toplama: \",toplama)\n",
    "print(\"Çıkarma: \",cikarma)\n",
    "print(\"Çarpma: \",carpma)\n",
    "print(\"Bölme: \",bolme)"
   ]
  },
  {
   "cell_type": "code",
   "execution_count": 40,
   "id": "736faf1b-7ef5-4f6f-8d60-df033956f00c",
   "metadata": {},
   "outputs": [
    {
     "name": "stdin",
     "output_type": "stream",
     "text": [
      "İsminizi giriniz:  Tuğçe\n",
      "Yaşınızı giriniz:  24\n",
      "Yaşadığınız şehri giriniz:  Adana\n",
      "Mesleğinizi giriniz:  Yeni mezun\n"
     ]
    },
    {
     "name": "stdout",
     "output_type": "stream",
     "text": [
      "İsim:  Tuğçe\n",
      "Yaş:  24\n",
      "Şehir:  Adana\n",
      "Meslek:  Yeni mezun\n"
     ]
    }
   ],
   "source": [
    "isim = input(\"İsminizi giriniz: \")\n",
    "yas = input(\"Yaşınızı giriniz: \")\n",
    "sehir = input(\"Yaşadığınız şehri giriniz: \")\n",
    "meslek =input(\"Mesleğinizi giriniz: \")\n",
    "\n",
    "print(\"İsim: \",isim)\n",
    "print (\"Yaş: \",yas)\n",
    "print(\"Şehir: \",sehir)\n",
    "print(\"Meslek: \",meslek)\n"
   ]
  },
  {
   "cell_type": "code",
   "execution_count": 31,
   "id": "40f6be83-82ea-4c37-9cc7-70ecbf3b1da2",
   "metadata": {},
   "outputs": [],
   "source": [
    "atolye = \"Yazılımla Güçlenen Kadınlar Veri Bilimi Atölyesi\""
   ]
  },
  {
   "cell_type": "code",
   "execution_count": 32,
   "id": "dd256297-5c46-4e6d-bc54-14bcd9bef275",
   "metadata": {},
   "outputs": [
    {
     "name": "stdout",
     "output_type": "stream",
     "text": [
      "Yazılı\n"
     ]
    }
   ],
   "source": [
    "print(atolye[0:6])"
   ]
  },
  {
   "cell_type": "code",
   "execution_count": 33,
   "id": "061284f3-9e3b-4d30-82fc-09b19689db5f",
   "metadata": {},
   "outputs": [
    {
     "name": "stdout",
     "output_type": "stream",
     "text": [
      "la G\n"
     ]
    }
   ],
   "source": [
    "print(atolye[7:11])"
   ]
  },
  {
   "cell_type": "code",
   "execution_count": 34,
   "id": "ada82844-5ffe-4837-a2ea-8477ddaa27c4",
   "metadata": {},
   "outputs": [
    {
     "name": "stdout",
     "output_type": "stream",
     "text": [
      "çlenen\n"
     ]
    }
   ],
   "source": [
    "print(atolye[12:18])"
   ]
  },
  {
   "cell_type": "code",
   "execution_count": 35,
   "id": "5deea772-5dda-435a-8abf-3b9335821c05",
   "metadata": {},
   "outputs": [
    {
     "name": "stdout",
     "output_type": "stream",
     "text": [
      "Kadınlar Veri Bilimi Atölyesi\n"
     ]
    }
   ],
   "source": [
    "print(atolye[19:])"
   ]
  },
  {
   "cell_type": "code",
   "execution_count": 36,
   "id": "e3126075-361a-4fe3-aa09-548aec0a0224",
   "metadata": {},
   "outputs": [
    {
     "data": {
      "text/plain": [
       "'YAZILIMLA GÜÇLENEN KADINLAR VERI BILIMI ATÖLYESI'"
      ]
     },
     "execution_count": 36,
     "metadata": {},
     "output_type": "execute_result"
    }
   ],
   "source": [
    "atolye.upper()"
   ]
  },
  {
   "cell_type": "code",
   "execution_count": 37,
   "id": "f6b08b57-8826-47a9-a60b-d69336ca4322",
   "metadata": {},
   "outputs": [
    {
     "data": {
      "text/plain": [
       "'yazılımla güçlenen kadınlar veri bilimi atölyesi'"
      ]
     },
     "execution_count": 37,
     "metadata": {},
     "output_type": "execute_result"
    }
   ],
   "source": [
    "atolye.lower()"
   ]
  },
  {
   "cell_type": "code",
   "execution_count": 38,
   "id": "c86750d7-098e-45dd-98a7-ae910c995c2e",
   "metadata": {},
   "outputs": [
    {
     "data": {
      "text/plain": [
       "'02468'"
      ]
     },
     "execution_count": 38,
     "metadata": {},
     "output_type": "execute_result"
    }
   ],
   "source": [
    "sayilar = \"0123456789\"\n",
    "sayilar[::2]"
   ]
  },
  {
   "cell_type": "code",
   "execution_count": 39,
   "id": "65d013a6-edb3-4bc3-8398-eb3cada079ff",
   "metadata": {},
   "outputs": [
    {
     "data": {
      "text/plain": [
       "'13579'"
      ]
     },
     "execution_count": 39,
     "metadata": {},
     "output_type": "execute_result"
    }
   ],
   "source": [
    "sayilar[1::2]"
   ]
  },
  {
   "cell_type": "code",
   "execution_count": 6,
   "id": "53582725-4552-4663-85cb-15f45704a359",
   "metadata": {},
   "outputs": [],
   "source": [
    "melek = 24\n",
    "sedat = 21\n",
    "ali = 18\n",
    "emre = 28\n",
    "özlem = 24"
   ]
  },
  {
   "cell_type": "code",
   "execution_count": 7,
   "id": "f42c8d21-c7a4-4bb7-8e1a-215736ee5d0d",
   "metadata": {},
   "outputs": [
    {
     "data": {
      "text/plain": [
       "False"
      ]
     },
     "execution_count": 7,
     "metadata": {},
     "output_type": "execute_result"
    }
   ],
   "source": [
    "ozlem == alı"
   ]
  },
  {
   "cell_type": "code",
   "execution_count": 8,
   "id": "d59f6ba4-429f-4baa-8a0c-322b3ddf209c",
   "metadata": {},
   "outputs": [
    {
     "data": {
      "text/plain": [
       "True"
      ]
     },
     "execution_count": 8,
     "metadata": {},
     "output_type": "execute_result"
    }
   ],
   "source": [
    "24 == 24\n"
   ]
  },
  {
   "cell_type": "code",
   "execution_count": 9,
   "id": "cbe8443d-0dc4-459b-8a10-8ee9987a1a60",
   "metadata": {},
   "outputs": [
    {
     "data": {
      "text/plain": [
       "True"
      ]
     },
     "execution_count": 9,
     "metadata": {},
     "output_type": "execute_result"
    }
   ],
   "source": [
    "melek == özlem"
   ]
  },
  {
   "cell_type": "code",
   "execution_count": null,
   "id": "f4c9bff8-030c-4d7d-a969-b88d9a2d7266",
   "metadata": {},
   "outputs": [],
   "source": []
  }
 ],
 "metadata": {
  "kernelspec": {
   "display_name": "Python 3 (ipykernel)",
   "language": "python",
   "name": "python3"
  },
  "language_info": {
   "codemirror_mode": {
    "name": "ipython",
    "version": 3
   },
   "file_extension": ".py",
   "mimetype": "text/x-python",
   "name": "python",
   "nbconvert_exporter": "python",
   "pygments_lexer": "ipython3",
   "version": "3.11.7"
  }
 },
 "nbformat": 4,
 "nbformat_minor": 5
}
