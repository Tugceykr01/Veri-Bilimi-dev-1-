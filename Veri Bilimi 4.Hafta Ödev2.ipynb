{
 "cells": [
  {
   "cell_type": "code",
   "execution_count": 14,
   "id": "042f3093-c341-4503-908f-e937a4e3b0b7",
   "metadata": {},
   "outputs": [],
   "source": [
    "def Yas_hesapla(dogum_yili):\n",
    "    yas = 2024 - dogum_yili\n",
    "    return yas\n",
    "   "
   ]
  },
  {
   "cell_type": "code",
   "execution_count": 20,
   "id": "783894c0-91e0-4a01-b5b3-eea066db3c2a",
   "metadata": {},
   "outputs": [
    {
     "data": {
      "text/plain": [
       "25"
      ]
     },
     "execution_count": 20,
     "metadata": {},
     "output_type": "execute_result"
    }
   ],
   "source": [
    " Yas_hesapla(1999)"
   ]
  },
  {
   "cell_type": "code",
   "execution_count": 21,
   "id": "e6eacbde-b079-4219-8329-35d34305bf0c",
   "metadata": {},
   "outputs": [],
   "source": [
    "def dairenin_alanı():\n",
    "    pi = input(\"pi sayısını giriniz: \")\n",
    "    yari_cap =  input(\"Yarıçap değerini giriniz: \")\n",
    "    d_alan = float(pi) * (float(yari_cap)**2)\n",
    "    return(round(d_alan))"
   ]
  },
  {
   "cell_type": "code",
   "execution_count": 25,
   "id": "6e1baf91-ae19-49c1-83fa-a0c776a9b1f9",
   "metadata": {
    "scrolled": true
   },
   "outputs": [
    {
     "name": "stdin",
     "output_type": "stream",
     "text": [
      "pi sayısını giriniz:  3.14\n",
      "Yarıçap değerini giriniz:  7\n"
     ]
    },
    {
     "data": {
      "text/plain": [
       "154"
      ]
     },
     "execution_count": 25,
     "metadata": {},
     "output_type": "execute_result"
    }
   ],
   "source": [
    "dairenin_alanı()"
   ]
  },
  {
   "cell_type": "code",
   "execution_count": 31,
   "id": "ab70f329-191f-4588-93d1-ee7b82025285",
   "metadata": {},
   "outputs": [],
   "source": [
    "def Faktoriyel(parametre):\n",
    "    factorial = 1\n",
    "    k = parametre\n",
    "    while k >0:\n",
    "        factorial = factorial * k\n",
    "        k = k - 1\n",
    "    return(str(parametre)+ \"sayısının faktöriyeli {} sayısıdır.\".format(str(factorial)))"
   ]
  },
  {
   "cell_type": "code",
   "execution_count": 36,
   "id": "f3cb5c34-f333-4338-bada-3a817588bc5c",
   "metadata": {},
   "outputs": [
    {
     "data": {
      "text/plain": [
       "'4sayısının faktöriyeli 24 sayısıdır.'"
      ]
     },
     "execution_count": 36,
     "metadata": {},
     "output_type": "execute_result"
    }
   ],
   "source": [
    "Faktoriyel(4)"
   ]
  },
  {
   "cell_type": "code",
   "execution_count": 40,
   "id": "7b088dac-a30e-4f16-859a-289e3f7b2aaf",
   "metadata": {},
   "outputs": [],
   "source": [
    "def Emeklilik(dogum_yili, isim):\n",
    "    yas = Yas_hesapla(dogum_yili)\n",
    "    if yas > 65:\n",
    "        print(\"Emekli Oldunuz. \")\n",
    "    else:\n",
    "        kalan_yil = 65 - yas\n",
    "        print(f\"{isim} emeklilik için  {kalan_yil} yılın kaldı.\")"
   ]
  },
  {
   "cell_type": "code",
   "execution_count": 41,
   "id": "43487553-552b-4d45-99b3-d8a313d27629",
   "metadata": {},
   "outputs": [
    {
     "name": "stdout",
     "output_type": "stream",
     "text": [
      "Ali emeklilik için  39 yılın kaldı.\n"
     ]
    }
   ],
   "source": [
    "Emeklilik(1998,\"Ali\")"
   ]
  },
  {
   "cell_type": "code",
   "execution_count": null,
   "id": "c1423e91-18af-4578-9e94-a83c48b2a0b1",
   "metadata": {},
   "outputs": [],
   "source": []
  },
  {
   "cell_type": "code",
   "execution_count": null,
   "id": "c59e702b-c2dd-4509-8116-edbf8d96c8db",
   "metadata": {},
   "outputs": [],
   "source": []
  },
  {
   "cell_type": "code",
   "execution_count": null,
   "id": "f13758c4-46dc-43cf-a518-a898f2ec7872",
   "metadata": {},
   "outputs": [],
   "source": []
  },
  {
   "cell_type": "code",
   "execution_count": null,
   "id": "a343b7ee-0d4d-47ce-a0e1-6fe99781f9ca",
   "metadata": {},
   "outputs": [],
   "source": []
  },
  {
   "cell_type": "code",
   "execution_count": null,
   "id": "26e57795-1171-4686-883b-801f0da1c2bd",
   "metadata": {},
   "outputs": [],
   "source": []
  },
  {
   "cell_type": "code",
   "execution_count": null,
   "id": "2d4630eb-101e-4f27-aec4-2d27aef944d0",
   "metadata": {},
   "outputs": [],
   "source": []
  },
  {
   "cell_type": "code",
   "execution_count": null,
   "id": "72dbe5e1-c20a-4a95-9e5c-ad2f350dfc68",
   "metadata": {},
   "outputs": [],
   "source": []
  }
 ],
 "metadata": {
  "kernelspec": {
   "display_name": "Python 3 (ipykernel)",
   "language": "python",
   "name": "python3"
  },
  "language_info": {
   "codemirror_mode": {
    "name": "ipython",
    "version": 3
   },
   "file_extension": ".py",
   "mimetype": "text/x-python",
   "name": "python",
   "nbconvert_exporter": "python",
   "pygments_lexer": "ipython3",
   "version": "3.11.7"
  }
 },
 "nbformat": 4,
 "nbformat_minor": 5
}
