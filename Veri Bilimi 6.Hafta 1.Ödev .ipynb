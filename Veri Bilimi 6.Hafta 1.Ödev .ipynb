{
 "cells": [
  {
   "cell_type": "code",
   "execution_count": null,
   "id": "314678be-7629-46a1-87ba-c7855f8ee8d1",
   "metadata": {},
   "outputs": [],
   "source": [
    "# 1.SORUNUN CEVABI "
   ]
  },
  {
   "cell_type": "code",
   "execution_count": 111,
   "id": "46353c67-c93f-4255-949c-65dc1db75fed",
   "metadata": {},
   "outputs": [],
   "source": [
    "import numpy as np"
   ]
  },
  {
   "cell_type": "code",
   "execution_count": 52,
   "id": "e1fbf6a9-8544-43ea-81fe-adbb46498b85",
   "metadata": {},
   "outputs": [],
   "source": [
    "array = np.array([5, 70, 56, 85, 42, 46, 69, 85, 41, 37], dtype=int)"
   ]
  },
  {
   "cell_type": "code",
   "execution_count": 53,
   "id": "22062a6f-35b6-425b-ae2a-32def1927c86",
   "metadata": {},
   "outputs": [
    {
     "data": {
      "text/plain": [
       "numpy.ndarray"
      ]
     },
     "execution_count": 53,
     "metadata": {},
     "output_type": "execute_result"
    }
   ],
   "source": [
    "type(array)"
   ]
  },
  {
   "cell_type": "code",
   "execution_count": 54,
   "id": "f775c442-ce7c-43fd-ad0a-234bb31a5c92",
   "metadata": {},
   "outputs": [],
   "source": [
    "array_size = array.size"
   ]
  },
  {
   "cell_type": "code",
   "execution_count": 55,
   "id": "89171c4c-54f4-4015-b00f-9ee5792e4b0f",
   "metadata": {},
   "outputs": [
    {
     "name": "stdout",
     "output_type": "stream",
     "text": [
      "Arrayin eleman sayısı (size): 10\n"
     ]
    }
   ],
   "source": [
    "print(\"Arrayin eleman sayısı (size):\", array_size)"
   ]
  },
  {
   "cell_type": "code",
   "execution_count": 56,
   "id": "81b12aaf-a5e9-49af-a5cc-0726917b7b7d",
   "metadata": {},
   "outputs": [],
   "source": [
    "# 2.SORUNUN CEVABI"
   ]
  },
  {
   "cell_type": "code",
   "execution_count": 57,
   "id": "19e8c9af-bec3-484e-8a10-29871c7750de",
   "metadata": {},
   "outputs": [
    {
     "name": "stdout",
     "output_type": "stream",
     "text": [
      "İki boyutlu array:\n",
      " [[4 8 7]\n",
      " [3 5 2]\n",
      " [9 4 5]]\n"
     ]
    }
   ],
   "source": [
    "# 2 boyutlu dizi oluşturduk.\n",
    "array_2d = np.array([[4, 8, 7], [3, 5, 2], [9, 4, 5]], dtype=int)\n",
    "\n",
    "print(\"İki boyutlu array:\\n\", array_2d)  "
   ]
  },
  {
   "cell_type": "code",
   "execution_count": 58,
   "id": "c45133d9-5270-432b-a867-2405f403c5cf",
   "metadata": {},
   "outputs": [
    {
     "name": "stdout",
     "output_type": "stream",
     "text": [
      "Üç boyutlu array:\n",
      " [[[ 1  2  3]\n",
      "  [ 4  5  6]]\n",
      "\n",
      " [[ 7  8  9]\n",
      "  [10 11 12]]\n",
      "\n",
      " [[13 14 15]\n",
      "  [16 17 18]]]\n"
     ]
    }
   ],
   "source": [
    "# 3 boyutlu dizi oluşturduk.\n",
    "array_3d = np.array([[[1, 2, 3], [4, 5, 6]], \n",
    "                     [[7, 8, 9], [10, 11, 12]], \n",
    "                     [[13, 14, 15], [16, 17, 18]]], dtype=int)\n",
    "\n",
    "print(\"Üç boyutlu array:\\n\", array_3d)  "
   ]
  },
  {
   "cell_type": "code",
   "execution_count": 59,
   "id": "63452829-f228-4b3c-968a-5a5966d54e39",
   "metadata": {},
   "outputs": [
    {
     "name": "stdout",
     "output_type": "stream",
     "text": [
      "İki boyutlu arrayin boyutu (shape): (3, 3)\n",
      "Üç boyutlu arrayin boyutu (shape): (3, 2, 3)\n"
     ]
    }
   ],
   "source": [
    "# oluşturduğumuz dizilerin boyutları\n",
    "array_2d_shape = array_2d.shape\n",
    "array_3d_shape = array_3d.shape\n",
    "\n",
    "print(\"İki boyutlu arrayin boyutu (shape):\", array_2d_shape)\n",
    "print(\"Üç boyutlu arrayin boyutu (shape):\", array_3d_shape)"
   ]
  },
  {
   "cell_type": "code",
   "execution_count": 60,
   "id": "d9ea6def-4d71-4657-9e43-e706bebbf2f4",
   "metadata": {},
   "outputs": [
    {
     "name": "stdout",
     "output_type": "stream",
     "text": [
      "İki boyutlu arrayin eleman sayısı (size): 9\n",
      "Üç boyutlu arrayin eleman sayısı (size): 18\n"
     ]
    }
   ],
   "source": [
    "# oluşturduğumuz dizinin eleman sayıları\n",
    "array_2d_size = array_2d.size\n",
    "array_3d_size = array_3d.size\n",
    "\n",
    "print(\"İki boyutlu arrayin eleman sayısı (size):\", array_2d_size)\n",
    "print(\"Üç boyutlu arrayin eleman sayısı (size):\", array_3d_size)"
   ]
  },
  {
   "cell_type": "code",
   "execution_count": 61,
   "id": "181a4b40-f530-4d9b-bf52-d4e4b4e10d66",
   "metadata": {},
   "outputs": [
    {
     "name": "stdout",
     "output_type": "stream",
     "text": [
      "İki boyutlu arrayin satır sayısı (rows): 3\n",
      "İki boyutlu arrayin sütun sayısı (columns): 3\n"
     ]
    }
   ],
   "source": [
    "# 2 boyutlu dizinin satır ve sütun sayısı\n",
    "array_2d_rows = array_2d.shape[0]\n",
    "array_2d_cols = array_2d.shape[1]\n",
    "\n",
    "print(\"İki boyutlu arrayin satır sayısı (rows):\", array_2d_rows)\n",
    "print(\"İki boyutlu arrayin sütun sayısı (columns):\", array_2d_cols)"
   ]
  },
  {
   "cell_type": "code",
   "execution_count": 63,
   "id": "d1f1a99e-88b2-467b-9b93-9139540e0f55",
   "metadata": {},
   "outputs": [
    {
     "name": "stdout",
     "output_type": "stream",
     "text": [
      "Üç boyutlu arrayin satır sayısı (rows): 3\n",
      "Üç boyutlu arrayin sutün sayısı (columns): 2\n"
     ]
    }
   ],
   "source": [
    "# 3 boyutlu dizinin satır ve sutün sayıları\n",
    "array_3d_rows = array_3d.shape[0]\n",
    "array_3d_cols = array_3d.shape[1]\n",
    "\n",
    "print(\"Üç boyutlu arrayin satır sayısı (rows):\", array_3d_rows)\n",
    "print(\"Üç boyutlu arrayin sutün sayısı (columns):\", array_3d_cols)"
   ]
  },
  {
   "cell_type": "code",
   "execution_count": 68,
   "id": "6c1c7c0b-34fd-407f-b82a-3f6ae350697a",
   "metadata": {},
   "outputs": [
    {
     "data": {
      "text/plain": [
       "2"
      ]
     },
     "execution_count": 68,
     "metadata": {},
     "output_type": "execute_result"
    }
   ],
   "source": [
    "#  2.satır 3.elemanı verir\n",
    "array_2d[1, 2]"
   ]
  },
  {
   "cell_type": "code",
   "execution_count": 77,
   "id": "fe6c17ff-52d7-4aa9-b305-2b04f112186d",
   "metadata": {},
   "outputs": [
    {
     "data": {
      "text/plain": [
       "11"
      ]
     },
     "execution_count": 77,
     "metadata": {},
     "output_type": "execute_result"
    }
   ],
   "source": [
    "# 2.katman 2.satır 2.sutün elemanını verir.\n",
    "array_3d[1, 1, 1]"
   ]
  },
  {
   "cell_type": "code",
   "execution_count": 78,
   "id": "7adb11c7-3235-4d8d-a44a-6b3cef0dd6eb",
   "metadata": {},
   "outputs": [],
   "source": [
    "# 3.SORUNUN CEVABI "
   ]
  },
  {
   "cell_type": "code",
   "execution_count": 81,
   "id": "06b9d8a1-f413-4b0e-8926-0386b83e2147",
   "metadata": {},
   "outputs": [
    {
     "name": "stdout",
     "output_type": "stream",
     "text": [
      "Bir boyutlu dizi:\n",
      "[1 2 3 4 5]\n"
     ]
    }
   ],
   "source": [
    "# 1 boyutlu dizi oluşturduk.\n",
    "dizi_1 = np.array([1, 2, 3, 4, 5])\n",
    "print(\"Bir boyutlu dizi:\")\n",
    "print(dizi_1)"
   ]
  },
  {
   "cell_type": "code",
   "execution_count": 86,
   "id": "3daf44ea-1b1c-4336-98d3-66887cde0e51",
   "metadata": {},
   "outputs": [
    {
     "name": "stdout",
     "output_type": "stream",
     "text": [
      " İki boyutlu dizi: \n",
      "[[5 6 3]\n",
      " [8 9 6]\n",
      " [3 7 5]]\n"
     ]
    }
   ],
   "source": [
    "# 2 boyutlu dizi oluşturduk.\n",
    "dizi_2 = np.array([[5,6,3], [8,9,6],[3,7,5]])\n",
    "print(\" İki boyutlu dizi: \")\n",
    "print(dizi_2)"
   ]
  },
  {
   "cell_type": "code",
   "execution_count": 90,
   "id": "36f8e1f8-3afb-4d05-a5de-b9d4efb0c3b3",
   "metadata": {},
   "outputs": [
    {
     "name": "stdout",
     "output_type": "stream",
     "text": [
      "Üç boyutlu dizi: \n",
      "[[[2 3 6]\n",
      "  [8 7 5]]\n",
      "\n",
      " [[2 5 9]\n",
      "  [7 8 9]]]\n"
     ]
    }
   ],
   "source": [
    "# 3 boyutlu dizi oluşturalım. \n",
    "dizi_3 = np.array([[[2,3,6],[8,7,5]],[[2,5,9],[7, 8, 9]]])\n",
    "print(\"Üç boyutlu dizi: \")\n",
    "print(dizi_3)"
   ]
  },
  {
   "cell_type": "code",
   "execution_count": 94,
   "id": "9ced7064-5d81-4317-9250-2fda1d443743",
   "metadata": {},
   "outputs": [
    {
     "data": {
      "text/plain": [
       "1"
      ]
     },
     "execution_count": 94,
     "metadata": {},
     "output_type": "execute_result"
    }
   ],
   "source": [
    "array_1[0]"
   ]
  },
  {
   "cell_type": "code",
   "execution_count": 95,
   "id": "5442d8cd-f3f9-43a3-bfc4-10fd132d1385",
   "metadata": {},
   "outputs": [
    {
     "data": {
      "text/plain": [
       "2"
      ]
     },
     "execution_count": 95,
     "metadata": {},
     "output_type": "execute_result"
    }
   ],
   "source": [
    "array_2d[1, 2]"
   ]
  },
  {
   "cell_type": "code",
   "execution_count": 96,
   "id": "dfd7f0ef-2779-4d76-8e02-d3b0fcbaa2c8",
   "metadata": {},
   "outputs": [
    {
     "data": {
      "text/plain": [
       "6"
      ]
     },
     "execution_count": 96,
     "metadata": {},
     "output_type": "execute_result"
    }
   ],
   "source": [
    "array_3d[0, 1, 2]"
   ]
  },
  {
   "cell_type": "code",
   "execution_count": 114,
   "id": "50ab5984-1ed5-4c59-8946-a256dfa47c14",
   "metadata": {},
   "outputs": [
    {
     "name": "stdout",
     "output_type": "stream",
     "text": [
      "Sıfırlardan oluşan iki boyutlu array:\n",
      "[[0. 0. 0.]\n",
      " [0. 0. 0.]\n",
      " [0. 0. 0.]]\n"
     ]
    }
   ],
   "source": [
    "# sıfırlardan oluşan iki boyutlu dizimizi oluşturduk\n",
    "sifir_array = np.zeros((3, 3))\n",
    "print(\"Sıfırlardan oluşan iki boyutlu array:\")\n",
    "print(sifir_array)"
   ]
  },
  {
   "cell_type": "code",
   "execution_count": 115,
   "id": "99cfaffb-5850-4e9b-b1a5-733b819a5435",
   "metadata": {},
   "outputs": [
    {
     "name": "stdout",
     "output_type": "stream",
     "text": [
      "\n",
      "Birlerden oluşan iki boyutlu array:\n",
      "[[1. 1. 1.]\n",
      " [1. 1. 1.]\n",
      " [1. 1. 1.]]\n"
     ]
    }
   ],
   "source": [
    "# birlerden oluşan iki boyutlu dizimiz\n",
    "birler_array = np.ones((3, 3))\n",
    "print(\"\\nBirlerden oluşan iki boyutlu array:\")\n",
    "print(ones_array)"
   ]
  },
  {
   "cell_type": "code",
   "execution_count": 116,
   "id": "9d3e54bc-4971-4b75-97e6-9fcd66302ee5",
   "metadata": {},
   "outputs": [
    {
     "name": "stdout",
     "output_type": "stream",
     "text": [
      "\n",
      "Satır bazında birleştirilen array:\n",
      "[[0. 0. 0.]\n",
      " [0. 0. 0.]\n",
      " [0. 0. 0.]\n",
      " [1. 1. 1.]\n",
      " [1. 1. 1.]\n",
      " [1. 1. 1.]]\n"
     ]
    }
   ],
   "source": [
    "# satırları birleştirdik.\n",
    "vertical_stack = np.vstack((zeros_array, ones_array))\n",
    "print(\"\\nSatır bazında birleştirilen array:\")\n",
    "print(vertical_stack)"
   ]
  },
  {
   "cell_type": "code",
   "execution_count": 118,
   "id": "262db2b2-b8b2-4856-badb-05c0e6de37f0",
   "metadata": {},
   "outputs": [
    {
     "name": "stdout",
     "output_type": "stream",
     "text": [
      "\n",
      "Sütun bazında birleştirilen array:\n",
      "[[0. 0. 0. 1. 1. 1.]\n",
      " [0. 0. 0. 1. 1. 1.]\n",
      " [0. 0. 0. 1. 1. 1.]]\n"
     ]
    }
   ],
   "source": [
    "# sutün olarak birleştirirsek\n",
    "horizontal_stack = np.hstack((zeros_array, ones_array))\n",
    "print(\"\\nSütun bazında birleştirilen array:\")\n",
    "print(horizontal_stack)"
   ]
  }
 ],
 "metadata": {
  "kernelspec": {
   "display_name": "Python 3 (ipykernel)",
   "language": "python",
   "name": "python3"
  },
  "language_info": {
   "codemirror_mode": {
    "name": "ipython",
    "version": 3
   },
   "file_extension": ".py",
   "mimetype": "text/x-python",
   "name": "python",
   "nbconvert_exporter": "python",
   "pygments_lexer": "ipython3",
   "version": "3.11.7"
  }
 },
 "nbformat": 4,
 "nbformat_minor": 5
}
