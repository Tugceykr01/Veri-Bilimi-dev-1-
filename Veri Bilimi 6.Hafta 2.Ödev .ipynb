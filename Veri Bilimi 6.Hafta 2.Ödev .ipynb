{
 "cells": [
  {
   "cell_type": "code",
   "execution_count": 172,
   "id": "e381d68b-e3a7-4e8a-ac33-cf3c8c114cf9",
   "metadata": {},
   "outputs": [],
   "source": [
    "import pandas as pd"
   ]
  },
  {
   "cell_type": "code",
   "execution_count": 147,
   "id": "0206cdc4-e11d-488f-b05e-b1d13c8a0f92",
   "metadata": {},
   "outputs": [],
   "source": [
    "sozluk = {\"Kategori\": [\"Giyim\",\"Giyim\", \"Ayakkabı\",\"Aksesuar\",\"Ayakkabı\",\"Giyim\",\"Aksesuar\",\"Aksesuar\",\"Ayakkabı\",\"Giyim\"],\n",
    "\n",
    "\n",
    "  \"Ürün\" : [\"Kazak\",\"T-shirt\",\"Sandalet\",\"Küpe\",\"Spor Ayakkabı\",\"Pantolon\",\"Kolye\",\"Yüzük\",\"Çizme\",\"Ceket\"],\n",
    "\n",
    "\n",
    "\"Fiyat\" : [300,180,450,50,700,400,150,80,850,900]}"
   ]
  },
  {
   "cell_type": "code",
   "execution_count": 148,
   "id": "121fa692-6431-446c-a5f8-23987fd19300",
   "metadata": {},
   "outputs": [
    {
     "name": "stdout",
     "output_type": "stream",
     "text": [
      "   Kategori           Ürün  Fiyat\n",
      "0     Giyim          Kazak    300\n",
      "1     Giyim        T-shirt    180\n",
      "2  Ayakkabı       Sandalet    450\n",
      "3  Aksesuar           Küpe     50\n",
      "4  Ayakkabı  Spor Ayakkabı    700\n",
      "5     Giyim       Pantolon    400\n",
      "6  Aksesuar          Kolye    150\n",
      "7  Aksesuar          Yüzük     80\n",
      "8  Ayakkabı          Çizme    850\n",
      "9     Giyim          Ceket    900\n"
     ]
    }
   ],
   "source": [
    "# pandas dataframe'e dönüştürdük.\n",
    "df = pd.DataFrame(sozluk)\n",
    "print(df)"
   ]
  },
  {
   "cell_type": "code",
   "execution_count": 149,
   "id": "17a695cd-8b86-4002-a3d7-5dd05ea6e4a3",
   "metadata": {},
   "outputs": [
    {
     "name": "stdout",
     "output_type": "stream",
     "text": [
      "Ayakkabı\n"
     ]
    }
   ],
   "source": [
    "# 2.indexte bulunan kategoriyi gösterdik.\n",
    "kategori_2_index = df.loc[2, \"Kategori\"]\n",
    "print(kategori_2_index)"
   ]
  },
  {
   "cell_type": "code",
   "execution_count": 150,
   "id": "e3b4aade-cfe5-48ec-bd96-3a24af8d9c08",
   "metadata": {},
   "outputs": [
    {
     "name": "stdout",
     "output_type": "stream",
     "text": [
      "Sandalet\n"
     ]
    }
   ],
   "source": [
    "# 2.indexte bulunan ürün bilgisi\n",
    "urun_2_index = df.loc[2, \"Ürün\"]\n",
    "print(urun_2_index)"
   ]
  },
  {
   "cell_type": "code",
   "execution_count": 151,
   "id": "8cc9cb43-4b26-4a25-b2dc-da48b6dd0b46",
   "metadata": {},
   "outputs": [
    {
     "name": "stdout",
     "output_type": "stream",
     "text": [
      "   Kategori           Ürün  Fiyat\n",
      "4  Ayakkabı  Spor Ayakkabı    700\n",
      "5     Giyim       Pantolon    400\n",
      "6  Aksesuar          Kolye    150\n",
      "7  Aksesuar          Yüzük     80\n",
      "8  Ayakkabı          Çizme    850\n",
      "9     Giyim          Ceket    900\n"
     ]
    }
   ],
   "source": [
    "# 4.indexten 9.indexe kadar olan verileri bulduk\n",
    "veriler = df.loc[4:9]\n",
    "print(veriler)"
   ]
  },
  {
   "cell_type": "code",
   "execution_count": 152,
   "id": "fd490b1f-6d27-45a5-a6cb-048070a7d4c4",
   "metadata": {},
   "outputs": [
    {
     "name": "stdout",
     "output_type": "stream",
     "text": [
      "1          T-shirt\n",
      "2         Sandalet\n",
      "3             Küpe\n",
      "4    Spor Ayakkabı\n",
      "5         Pantolon\n",
      "6            Kolye\n",
      "Name: Ürün, dtype: object\n"
     ]
    }
   ],
   "source": [
    "# 1.indexten 6.indexe kadar olan ürünleri bulduk\n",
    "urun = df.loc[1:6,\"Ürün\"]\n",
    "print(urun)"
   ]
  },
  {
   "cell_type": "code",
   "execution_count": 153,
   "id": "ab1597fe-c32a-4651-b4cb-56749f83e68e",
   "metadata": {},
   "outputs": [
    {
     "name": "stdout",
     "output_type": "stream",
     "text": [
      "  Kategori      Ürün  Fiyat\n",
      "0    Giyim     Kazak    300\n",
      "1    Giyim   T-shirt    180\n",
      "5    Giyim  Pantolon    400\n",
      "9    Giyim     Ceket    900\n"
     ]
    }
   ],
   "source": [
    "# giyim kategorisinde olanları gösterelim.\n",
    "giyim_urunler = df[df[\"Kategori\"] == \"Giyim\"]\n",
    "print(giyim_urunler)"
   ]
  },
  {
   "cell_type": "code",
   "execution_count": 154,
   "id": "d6a5b4ce-f575-4db9-9491-f6e663dc08d8",
   "metadata": {},
   "outputs": [
    {
     "name": "stdout",
     "output_type": "stream",
     "text": [
      "   Kategori           Ürün  Fiyat\n",
      "2  Ayakkabı       Sandalet    450\n",
      "4  Ayakkabı  Spor Ayakkabı    700\n",
      "8  Ayakkabı          Çizme    850\n"
     ]
    }
   ],
   "source": [
    "# ayakkabı kategorisinde bulunan ürünleri gösterelim\n",
    "ayakkabi_urunler = df[df[\"Kategori\"] == \"Ayakkabı\"]\n",
    "print(ayakkabi_urunler)"
   ]
  },
  {
   "cell_type": "code",
   "execution_count": 157,
   "id": "4e51175c-5806-4b83-8166-3b01da6d7e0e",
   "metadata": {},
   "outputs": [
    {
     "name": "stdout",
     "output_type": "stream",
     "text": [
      "   Kategori   Ürün  Fiyat\n",
      "3  Aksesuar   Küpe     50\n",
      "6  Aksesuar  Kolye    150\n",
      "7  Aksesuar  Yüzük     80\n"
     ]
    }
   ],
   "source": [
    "# aksesuar kategorisinde bulunan ürünleri gösterelim.\n",
    "aksesuar_urunler = df[df[\"Kategori\"]== \"Aksesuar\"]\n",
    "print(aksesuar_urunler)"
   ]
  },
  {
   "cell_type": "code",
   "execution_count": 160,
   "id": "c9a73f99-0052-45b4-88b9-cee77a752b54",
   "metadata": {},
   "outputs": [
    {
     "name": "stdout",
     "output_type": "stream",
     "text": [
      "  Kategori      Ürün  Fiyat\n",
      "5    Giyim  Pantolon    400\n",
      "9    Giyim     Ceket    900\n"
     ]
    }
   ],
   "source": [
    "# giyim fiyatı 300 üstü olanlar ürünler\n",
    "giyim_fiyat_300_ustu = df[(df[\"Kategori\"] == \"Giyim\") & (df[\"Fiyat\"] > 300)]\n",
    "print(giyim_fiyat_300_ustu)"
   ]
  },
  {
   "cell_type": "code",
   "execution_count": 183,
   "id": "6f4d932b-0d94-462c-b9e9-54b686cbf638",
   "metadata": {},
   "outputs": [
    {
     "name": "stdout",
     "output_type": "stream",
     "text": [
      "  Kategori      Ürün  Fiyat\n",
      "5    Giyim  Pantolon    400\n",
      "9    Giyim     Ceket    900\n"
     ]
    }
   ],
   "source": [
    "# başka bir şekilde gösterecek olursak;\n",
    "giyim_fiyat_300_ustu = df.query('Kategori == \"Giyim\" and Fiyat > 300')\n",
    "print(giyim_fiyat_300_ustu)"
   ]
  },
  {
   "cell_type": "code",
   "execution_count": 184,
   "id": "f997e55f-b399-47bc-ad88-7e8a71137924",
   "metadata": {},
   "outputs": [
    {
     "name": "stdout",
     "output_type": "stream",
     "text": [
      "   Kategori      Ürün  Fiyat\n",
      "2  Ayakkabı  Sandalet    450\n"
     ]
    }
   ],
   "source": [
    "# ayakkabı kategorisinde 600'den az olanları göster\n",
    "ayakkabi_fiyat_600_alt = df[(df[\"Kategori\"] == \"Ayakkabı\") & (df[\"Fiyat\"] < 600)]\n",
    "print(ayakkabi_fiyat_600_alt)"
   ]
  },
  {
   "cell_type": "code",
   "execution_count": 186,
   "id": "355bc4af-7aa6-4a3a-9ca9-5867d065c362",
   "metadata": {},
   "outputs": [
    {
     "name": "stdout",
     "output_type": "stream",
     "text": [
      "   Kategori   Ürün  Fiyat\n",
      "6  Aksesuar  Kolye    150\n"
     ]
    }
   ],
   "source": [
    "# aksesuar kategorisinde fiyatı 100'den fazla olan aksesuarları bulalım.\n",
    "aksesuar_fiyat_100_ustu = df[(df[\"Kategori\"] == \"Aksesuar\") & (df[\"Fiyat\"] > 100)]\n",
    "print(aksesuar_fiyat_100_ustu)"
   ]
  }
 ],
 "metadata": {
  "kernelspec": {
   "display_name": "Python 3 (ipykernel)",
   "language": "python",
   "name": "python3"
  },
  "language_info": {
   "codemirror_mode": {
    "name": "ipython",
    "version": 3
   },
   "file_extension": ".py",
   "mimetype": "text/x-python",
   "name": "python",
   "nbconvert_exporter": "python",
   "pygments_lexer": "ipython3",
   "version": "3.11.7"
  }
 },
 "nbformat": 4,
 "nbformat_minor": 5
}
