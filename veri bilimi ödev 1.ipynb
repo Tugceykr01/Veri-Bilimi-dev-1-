{
 "cells": [
  {
   "cell_type": "code",
   "execution_count": null,
   "id": "d41d7db3-0deb-4964-a565-0d20beae1955",
   "metadata": {},
   "outputs": [],
   "source": [
    "a=5\n"
   ]
  },
  {
   "cell_type": "code",
   "execution_count": 11,
   "id": "013209ae-5826-45c0-9188-3388a3136be5",
   "metadata": {},
   "outputs": [
    {
     "data": {
      "text/plain": [
       "int"
      ]
     },
     "execution_count": 11,
     "metadata": {},
     "output_type": "execute_result"
    }
   ],
   "source": [
    "type(a)\n"
   ]
  },
  {
   "cell_type": "code",
   "execution_count": null,
   "id": "3fdeeb34-3f7b-438b-ad80-2b7948500678",
   "metadata": {},
   "outputs": [],
   "source": [
    "b=6.9"
   ]
  },
  {
   "cell_type": "code",
   "execution_count": 10,
   "id": "5d5c1e1b-859d-4aa9-8e44-9be3cf2ff907",
   "metadata": {},
   "outputs": [
    {
     "data": {
      "text/plain": [
       "float"
      ]
     },
     "execution_count": 10,
     "metadata": {},
     "output_type": "execute_result"
    }
   ],
   "source": [
    "type(b)"
   ]
  },
  {
   "cell_type": "code",
   "execution_count": 17,
   "id": "0c55b327-6c84-418a-a3c6-6b5f835deecc",
   "metadata": {},
   "outputs": [],
   "source": [
    "ali = 25\n",
    "ayse = 35\n",
    "fatma = 45"
   ]
  },
  {
   "cell_type": "code",
   "execution_count": 18,
   "id": "a477fd77-acd6-4767-bd95-a7980d06435e",
   "metadata": {},
   "outputs": [
    {
     "data": {
      "text/plain": [
       "True"
      ]
     },
     "execution_count": 18,
     "metadata": {},
     "output_type": "execute_result"
    }
   ],
   "source": [
    "ali<ayse"
   ]
  },
  {
   "cell_type": "code",
   "execution_count": 19,
   "id": "52613e69-32d9-4af9-9ab1-5179086fb3fc",
   "metadata": {},
   "outputs": [
    {
     "data": {
      "text/plain": [
       "False"
      ]
     },
     "execution_count": 19,
     "metadata": {},
     "output_type": "execute_result"
    }
   ],
   "source": [
    "ayse>fatma"
   ]
  },
  {
   "cell_type": "code",
   "execution_count": 20,
   "id": "cbc97b85-c83d-47c8-ac25-3c5f3b622c3d",
   "metadata": {},
   "outputs": [
    {
     "data": {
      "text/plain": [
       "False"
      ]
     },
     "execution_count": 20,
     "metadata": {},
     "output_type": "execute_result"
    }
   ],
   "source": [
    "ali==fatma"
   ]
  },
  {
   "cell_type": "code",
   "execution_count": null,
   "id": "feafaf76-3170-4575-957b-ed0762eb8073",
   "metadata": {},
   "outputs": [],
   "source": []
  }
 ],
 "metadata": {
  "kernelspec": {
   "display_name": "Python 3 (ipykernel)",
   "language": "python",
   "name": "python3"
  },
  "language_info": {
   "codemirror_mode": {
    "name": "ipython",
    "version": 3
   },
   "file_extension": ".py",
   "mimetype": "text/x-python",
   "name": "python",
   "nbconvert_exporter": "python",
   "pygments_lexer": "ipython3",
   "version": "3.11.7"
  }
 },
 "nbformat": 4,
 "nbformat_minor": 5
}
