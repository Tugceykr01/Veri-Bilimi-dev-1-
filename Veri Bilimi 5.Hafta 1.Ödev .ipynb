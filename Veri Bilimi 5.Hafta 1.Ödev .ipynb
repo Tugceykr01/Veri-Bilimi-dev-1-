{
 "cells": [
  {
   "cell_type": "code",
   "execution_count": 1,
   "id": "6afdbd9c-4035-4368-b18e-d8912a51f5ae",
   "metadata": {},
   "outputs": [],
   "source": [
    "liste = [\"Python\", True, 9, \"3\", 8.4, \"Hi-Kod\", \"False\", 4.7]"
   ]
  },
  {
   "cell_type": "code",
   "execution_count": 7,
   "id": "bb5d1270-b274-4d0a-8621-561fcd4db18f",
   "metadata": {},
   "outputs": [
    {
     "data": {
      "text/plain": [
       "'3'"
      ]
     },
     "execution_count": 7,
     "metadata": {},
     "output_type": "execute_result"
    }
   ],
   "source": [
    "liste[3]"
   ]
  },
  {
   "cell_type": "code",
   "execution_count": 8,
   "id": "9b31f782-539c-47ef-9707-5497039797d3",
   "metadata": {},
   "outputs": [
    {
     "data": {
      "text/plain": [
       "'Hi-Kod'"
      ]
     },
     "execution_count": 8,
     "metadata": {},
     "output_type": "execute_result"
    }
   ],
   "source": [
    "liste[5]"
   ]
  },
  {
   "cell_type": "code",
   "execution_count": 11,
   "id": "80645dd5-2cc8-4c4f-a2c4-e3ab0df2ed1c",
   "metadata": {},
   "outputs": [
    {
     "data": {
      "text/plain": [
       "4.7"
      ]
     },
     "execution_count": 11,
     "metadata": {},
     "output_type": "execute_result"
    }
   ],
   "source": [
    "liste[-1]"
   ]
  },
  {
   "cell_type": "code",
   "execution_count": 9,
   "id": "3ae8fd9b-065c-453f-abba-73303b2ddd98",
   "metadata": {},
   "outputs": [
    {
     "data": {
      "text/plain": [
       "4.7"
      ]
     },
     "execution_count": 9,
     "metadata": {},
     "output_type": "execute_result"
    }
   ],
   "source": [
    "liste[7]"
   ]
  },
  {
   "cell_type": "code",
   "execution_count": 10,
   "id": "e9c525d3-3c46-45ea-b4b4-3ad889c46cbe",
   "metadata": {},
   "outputs": [
    {
     "data": {
      "text/plain": [
       "[9, '3', 8.4, 'Hi-Kod']"
      ]
     },
     "execution_count": 10,
     "metadata": {},
     "output_type": "execute_result"
    }
   ],
   "source": [
    "liste[2:6]"
   ]
  },
  {
   "cell_type": "code",
   "execution_count": 12,
   "id": "e940321f-abed-46a8-9211-242d59278856",
   "metadata": {},
   "outputs": [
    {
     "data": {
      "text/plain": [
       "[8.4, 'Hi-Kod', 'False', 4.7]"
      ]
     },
     "execution_count": 12,
     "metadata": {},
     "output_type": "execute_result"
    }
   ],
   "source": [
    "liste[4:8]"
   ]
  },
  {
   "cell_type": "code",
   "execution_count": 13,
   "id": "6e15ede1-01fe-4884-a64b-4c92a3b25a0b",
   "metadata": {},
   "outputs": [
    {
     "data": {
      "text/plain": [
       "[8.4, 'Hi-Kod', 'False', 4.7]"
      ]
     },
     "execution_count": 13,
     "metadata": {},
     "output_type": "execute_result"
    }
   ],
   "source": [
    "liste[4:]"
   ]
  },
  {
   "cell_type": "code",
   "execution_count": 15,
   "id": "e39f3ddd-c216-4cdf-966c-4421d97100a6",
   "metadata": {},
   "outputs": [],
   "source": [
    "liste = [\"Python\", True, 9, \"3\", 8.4, \"Hi-Kod\", \"False\", 4.7]"
   ]
  },
  {
   "cell_type": "code",
   "execution_count": 18,
   "id": "3d0459ac-92ff-43cb-b787-e4eb38a22b6e",
   "metadata": {},
   "outputs": [
    {
     "data": {
      "text/plain": [
       "['Python', '3', 'Hi-Kod', 'False']"
      ]
     },
     "execution_count": 18,
     "metadata": {},
     "output_type": "execute_result"
    }
   ],
   "source": [
    "yeni_liste = []\n",
    "for eleman in liste:\n",
    "    if type(eleman) == str:\n",
    "        yeni_liste.append(eleman)\n",
    "        \n",
    "yeni_liste"
   ]
  },
  {
   "cell_type": "code",
   "execution_count": 21,
   "id": "317ddb27-d98a-43f6-b4c0-63f08597f8c1",
   "metadata": {},
   "outputs": [
    {
     "name": "stdout",
     "output_type": "stream",
     "text": [
      "0. indexte bulunan meyve: Elma\n",
      "1. indexte bulunan meyve: Çilek\n",
      "2. indexte bulunan meyve: Armut\n",
      "3. indexte bulunan meyve: Ananas\n"
     ]
    }
   ],
   "source": [
    "meyveler = ['Elma','Çilek','Armut','Ananas']\n",
    "for index in range(len(meyveler)):\n",
    "    print(\"{}. indexte bulunan meyve: {}\".format(index,meyveler[index]))"
   ]
  },
  {
   "cell_type": "code",
   "execution_count": 23,
   "id": "b240ce79-612a-41b1-9dbd-14c1162efbf1",
   "metadata": {},
   "outputs": [
    {
     "name": "stdout",
     "output_type": "stream",
     "text": [
      "0. İndexte bulunan meyve: Elma\n",
      "1. İndexte bulunan meyve: Çilek\n",
      "2. İndexte bulunan meyve: Armut\n",
      "3. İndexte bulunan meyve: Ananas\n"
     ]
    }
   ],
   "source": [
    "# enumerate hem o listedeki elemanlara ulaşmayı hem de o listenin elemanlarının indexlerini kullanabilmeyi sağlıyor.\n",
    "\n",
    "meyveler = ['Elma','Çilek','Armut','Ananas']\n",
    "for index, meyve in enumerate(meyveler,0):\n",
    "    print('{}. İndexte bulunan meyve: {}'.format(index,meyve))"
   ]
  }
 ],
 "metadata": {
  "kernelspec": {
   "display_name": "Python 3 (ipykernel)",
   "language": "python",
   "name": "python3"
  },
  "language_info": {
   "codemirror_mode": {
    "name": "ipython",
    "version": 3
   },
   "file_extension": ".py",
   "mimetype": "text/x-python",
   "name": "python",
   "nbconvert_exporter": "python",
   "pygments_lexer": "ipython3",
   "version": "3.11.7"
  }
 },
 "nbformat": 4,
 "nbformat_minor": 5
}
