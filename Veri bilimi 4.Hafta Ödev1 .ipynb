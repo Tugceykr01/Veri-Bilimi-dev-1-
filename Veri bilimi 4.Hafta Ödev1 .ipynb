{
 "cells": [
  {
   "cell_type": "code",
   "execution_count": 9,
   "id": "bcf8f499-3577-464c-86c3-fae426aab744",
   "metadata": {},
   "outputs": [
    {
     "name": "stdin",
     "output_type": "stream",
     "text": [
      "Maaşınızı Giriniz:  456\n"
     ]
    },
    {
     "name": "stdout",
     "output_type": "stream",
     "text": [
      "Orijinal maaşınız: 456.0 TL\n",
      "Kesilen vergi miktarı: 22.8 TL\n",
      "Yeni maaşınız: 433.2 TL\n"
     ]
    }
   ],
   "source": [
    "\n",
    "maas = float(input(\"Maaşınızı Giriniz: \"))\n",
    "\n",
    "if maas <= 10000:\n",
    "    vergi_orani = 0.05\n",
    "elif maas <= 25000:\n",
    "    vergi_orani = 0.10\n",
    "elif maas <= 45000:\n",
    "    vergi_orani = 0.25\n",
    "else:\n",
    "    vergi_orani = 0.30\n",
    "\n",
    "vergi_miktari = maas * vergi_orani\n",
    "yeni_maas = maas - vergi_miktari\n",
    "\n",
    "print(f\"Orijinal maaşınız: {maas} TL\")\n",
    "print(f\"Kesilen vergi miktarı: {vergi_miktari} TL\")\n",
    "print(f\"Yeni maaşınız: {yeni_maas} TL\")"
   ]
  },
  {
   "cell_type": "code",
   "execution_count": 10,
   "id": "565805e6-e738-474c-bad8-3ea17f2187ca",
   "metadata": {},
   "outputs": [
    {
     "name": "stdin",
     "output_type": "stream",
     "text": [
      "Kullanıcı Adı Giriniz:  tugcey\n",
      "Şifre Oluşturunuz:  45d6s46\n"
     ]
    },
    {
     "name": "stdout",
     "output_type": "stream",
     "text": [
      "Hesabınız Oluşturulmuştur.\n"
     ]
    }
   ],
   "source": [
    "kullanici_adi = input(\"Kullanıcı Adı Giriniz: \")\n",
    "sifre = input(\"Şifre Oluşturunuz: \")\n",
    "\n",
    "if len(sifre) >= 6:\n",
    "    print(\"Hesabınız Oluşturulmuştur.\")\n",
    "else:\n",
    "    print(\"Şifreniz en az 6 karakter uzunluğunda olmalıdır. Lütfen tekrar deneyin.\")"
   ]
  },
  {
   "cell_type": "code",
   "execution_count": 12,
   "id": "cc7686d0-97f8-4ef1-a4ee-b17f605bbf86",
   "metadata": {},
   "outputs": [
    {
     "name": "stdin",
     "output_type": "stream",
     "text": [
      "Lütfen kullanıcı adınızı giriniz:  tugce\n",
      "Şifre Oluşturun:  78ds9a85sd\n"
     ]
    },
    {
     "name": "stdout",
     "output_type": "stream",
     "text": [
      "Hesabınız başarıyla oluşturuldu :)\n"
     ]
    }
   ],
   "source": [
    "def sifre_dogrula():\n",
    "    while True:\n",
    "        sifre = input(\"Şifre Oluşturun: \")\n",
    "        if 5 <= len(sifre) <= 10:\n",
    "            print(\"Hesabınız başarıyla oluşturuldu :)\")\n",
    "            break\n",
    "        else:\n",
    "            print(\"Girdiğiniz şifre 5 haneden az 10 haneden fazla olmamalı\")\n",
    "\n",
    "def main():\n",
    "    kullanici_adi = input(\"Kullanıcı adınızı giriniz: \")\n",
    "    sifre_dogrula()\n",
    "main()\n"
   ]
  },
  {
   "cell_type": "code",
   "execution_count": 13,
   "id": "2e8198e0-9a46-4357-8905-d5dd6dd1ccf5",
   "metadata": {},
   "outputs": [
    {
     "name": "stdin",
     "output_type": "stream",
     "text": [
      "İsminizi Giriniz:  Tuğçe \n"
     ]
    },
    {
     "name": "stdout",
     "output_type": "stream",
     "text": [
      "Selamm , Tuğçe ! :)\n"
     ]
    },
    {
     "name": "stdin",
     "output_type": "stream",
     "text": [
      "Şifre Giriniz:  lsşails\n"
     ]
    },
    {
     "name": "stdout",
     "output_type": "stream",
     "text": [
      "Yanlış şifre girildi! Kalan hakkınız: 2\n"
     ]
    },
    {
     "name": "stdin",
     "output_type": "stream",
     "text": [
      "Şifre Giriniz:  ldşalş\n"
     ]
    },
    {
     "name": "stdout",
     "output_type": "stream",
     "text": [
      "Yanlış şifre girildi! Kalan hakkınız: 1\n"
     ]
    },
    {
     "name": "stdin",
     "output_type": "stream",
     "text": [
      "Şifre Giriniz:  741852\n"
     ]
    },
    {
     "name": "stdout",
     "output_type": "stream",
     "text": [
      "Giriş yapıldı :)\n"
     ]
    }
   ],
   "source": [
    "def sifre_dogrula(dogru_sifre):\n",
    "    hak_sayisi = 3\n",
    "    while hak_sayisi > 0:\n",
    "        girilen_sifre = input(\"Şifre Giriniz: \")\n",
    "        if girilen_sifre == dogru_sifre:\n",
    "            print(\"Giriş yapıldı :)\")\n",
    "            return True\n",
    "        else:\n",
    "            hak_sayisi -= 1\n",
    "            if hak_sayisi > 0:\n",
    "                print(f\"Yanlış şifre girildi! Kalan hakkınız: {hak_sayisi}\")\n",
    "            else:\n",
    "                print(\"Yanlış şifre girdiniz :( Program kapanıyor.\")\n",
    "    return False\n",
    "def main():\n",
    "    dogru_sifre = \"741852\"\n",
    "    isim = input(\"İsminizi Giriniz: \")\n",
    "    print(f\"Selamm , {isim}! :)\")\n",
    "    sifre_dogrula(dogru_sifre)\n",
    "main()"
   ]
  },
  {
   "cell_type": "code",
   "execution_count": null,
   "id": "13895c70-c42d-4fbe-a99f-efa97b72a1f7",
   "metadata": {},
   "outputs": [],
   "source": []
  }
 ],
 "metadata": {
  "kernelspec": {
   "display_name": "Python 3 (ipykernel)",
   "language": "python",
   "name": "python3"
  },
  "language_info": {
   "codemirror_mode": {
    "name": "ipython",
    "version": 3
   },
   "file_extension": ".py",
   "mimetype": "text/x-python",
   "name": "python",
   "nbconvert_exporter": "python",
   "pygments_lexer": "ipython3",
   "version": "3.11.7"
  }
 },
 "nbformat": 4,
 "nbformat_minor": 5
}
