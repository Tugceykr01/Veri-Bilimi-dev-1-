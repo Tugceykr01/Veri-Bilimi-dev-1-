{
 "cells": [
  {
   "cell_type": "code",
   "execution_count": 2,
   "id": "84118a62-b206-4fcc-b017-261a13440544",
   "metadata": {},
   "outputs": [],
   "source": [
    "dict={\n",
    "    \"Ali\" : {\"Matematik\": 63, \"Fizik\": 35, \"Kimya\":37},\n",
    "    \"Mehmet\" : {\"Matematik\": 45, \"Fizik\": 82, \"Kimya\":49},\n",
    "    \"Veli\" : {\"Matematik\": 93, \"Fizik\": 56, \"Kimya\":68},\n",
    "    \"Fatma\" : {\"Matematik\": 33, \"Fizik\": 74, \"Kimya\":58}\n",
    "}"
   ]
  },
  {
   "cell_type": "code",
   "execution_count": 3,
   "id": "d42c628b-ef44-4812-8514-cf71d0cd0759",
   "metadata": {},
   "outputs": [
    {
     "data": {
      "text/plain": [
       "{'Ali': {'Matematik': 63, 'Fizik': 35, 'Kimya': 37},\n",
       " 'Mehmet': {'Matematik': 45, 'Fizik': 82, 'Kimya': 49},\n",
       " 'Veli': {'Matematik': 93, 'Fizik': 56, 'Kimya': 68},\n",
       " 'Fatma': {'Matematik': 33, 'Fizik': 74, 'Kimya': 58}}"
      ]
     },
     "execution_count": 3,
     "metadata": {},
     "output_type": "execute_result"
    }
   ],
   "source": [
    "dict"
   ]
  },
  {
   "cell_type": "code",
   "execution_count": 4,
   "id": "aaaafde6-ebd1-445b-b3a6-d098d3ce2431",
   "metadata": {},
   "outputs": [
    {
     "data": {
      "text/plain": [
       "{'Matematik': 33, 'Fizik': 74, 'Kimya': 58}"
      ]
     },
     "execution_count": 4,
     "metadata": {},
     "output_type": "execute_result"
    }
   ],
   "source": [
    "dict[\"Fatma\"]"
   ]
  },
  {
   "cell_type": "code",
   "execution_count": 5,
   "id": "6738045b-a010-4c53-8ee8-50117b279ede",
   "metadata": {},
   "outputs": [],
   "source": [
    "dict[\"Mehmet\"][\"Fizik\"]=90"
   ]
  },
  {
   "cell_type": "code",
   "execution_count": 6,
   "id": "82fc307d-ef27-4a40-9ad2-3692db36bc3b",
   "metadata": {},
   "outputs": [
    {
     "data": {
      "text/plain": [
       "{'Matematik': 45, 'Fizik': 90, 'Kimya': 49}"
      ]
     },
     "execution_count": 6,
     "metadata": {},
     "output_type": "execute_result"
    }
   ],
   "source": [
    "dict[\"Mehmet\"]"
   ]
  },
  {
   "cell_type": "code",
   "execution_count": 7,
   "id": "d6e1be80-c740-4d61-869f-eee4edd25909",
   "metadata": {},
   "outputs": [],
   "source": [
    "dict[\"Veli\"][\"Matematik\"]=87"
   ]
  },
  {
   "cell_type": "code",
   "execution_count": 8,
   "id": "78696a8e-fe6a-4200-8cc9-16b56e3617dc",
   "metadata": {},
   "outputs": [
    {
     "data": {
      "text/plain": [
       "{'Matematik': 87, 'Fizik': 56, 'Kimya': 68}"
      ]
     },
     "execution_count": 8,
     "metadata": {},
     "output_type": "execute_result"
    }
   ],
   "source": [
    "dict[\"Veli\"]"
   ]
  },
  {
   "cell_type": "code",
   "execution_count": 9,
   "id": "3c8d098b-d167-4bce-a667-9b0655cc94a8",
   "metadata": {},
   "outputs": [],
   "source": [
    "dict[\"Fatma\"][\"Kimya\"]=83"
   ]
  },
  {
   "cell_type": "code",
   "execution_count": 10,
   "id": "7b95835a-a0b4-4fa3-8589-a6fec9d4970e",
   "metadata": {},
   "outputs": [
    {
     "data": {
      "text/plain": [
       "{'Matematik': 33, 'Fizik': 74, 'Kimya': 83}"
      ]
     },
     "execution_count": 10,
     "metadata": {},
     "output_type": "execute_result"
    }
   ],
   "source": [
    "dict[\"Fatma\"]"
   ]
  },
  {
   "cell_type": "code",
   "execution_count": 11,
   "id": "45eed284-d62a-49df-9a9c-eb9dca93297a",
   "metadata": {},
   "outputs": [],
   "source": [
    "dict[\"Mehmet\"]={\"Matematik\":45,\"Fizik\":90}"
   ]
  },
  {
   "cell_type": "code",
   "execution_count": 12,
   "id": "60b2bc99-166e-4879-9cde-f279b3e2f7a4",
   "metadata": {},
   "outputs": [
    {
     "name": "stdin",
     "output_type": "stream",
     "text": [
      "Öğrenci adını giriniz:  Ali\n",
      "Notunu görmek istediğiniz dersi giriniz (Matematik, Fizik, Kimya):  Matematik\n"
     ]
    },
    {
     "name": "stdout",
     "output_type": "stream",
     "text": [
      "Ali isimli öğrencinin Matematik dersindeki notu: 63\n"
     ]
    }
   ],
   "source": [
    "ogrenci_notlari = {\n",
    "    \"Ali\": {\"Matematik\": 63, \"Fizik\": 35, \"Kimya\": 37},\n",
    "    \"Mehmet\": {\"Matematik\": 45, \"Fizik\": 82, \"Kimya\": 49},\n",
    "    \"Veli\": {\"Matematik\": 93, \"Fizik\": 56, \"Kimya\": 68},\n",
    "    \"Fatma\": {\"Matematik\": 33, \"Fizik\": 74, \"Kimya\": 58}\n",
    "}\n",
    "\n",
    "\n",
    "ogrenci_adi = input(\"Öğrenci adını giriniz: \")\n",
    "ders_adi = input(\"Notunu görmek istediğiniz dersi giriniz (Matematik, Fizik, Kimya): \")\n",
    "\n",
    "\n",
    "if ogrenci_adi in ogrenci_notlari and ders_adi in ogrenci_notlari[ogrenci_adi]:\n",
    "    not_degeri = ogrenci_notlari[ogrenci_adi][ders_adi]\n",
    "    print(f\"{ogrenci_adi} isimli öğrencinin {ders_adi} dersindeki notu: {not_degeri}\")\n",
    "else:\n",
    "    print(\"Böyle bir öğrenci veya ders bulunamadı.\")\n",
    "    \n",
    "ogrenci_notlari[\"Veli\"][\"Matematik\"] = 87  \n",
    "ogrenci_notlari[\"Mehmet\"][\"Fizik\"] = 90   \n",
    "ogrenci_notlari[\"Ahmet\"] = {\"Matematik\": 70, \"Fizik\": 80, \"Kimya\": 65} \n"
   ]
  },
  {
   "cell_type": "code",
   "execution_count": null,
   "id": "12c095bd-2e2d-4938-8fb1-506ad965a9bb",
   "metadata": {},
   "outputs": [],
   "source": []
  },
  {
   "cell_type": "code",
   "execution_count": null,
   "id": "c8b6e467-8347-4f98-a8d8-d2f2fdba5142",
   "metadata": {},
   "outputs": [],
   "source": []
  },
  {
   "cell_type": "code",
   "execution_count": null,
   "id": "57039441-e111-408a-8371-c9ff174ef0ea",
   "metadata": {},
   "outputs": [],
   "source": []
  }
 ],
 "metadata": {
  "kernelspec": {
   "display_name": "Python 3 (ipykernel)",
   "language": "python",
   "name": "python3"
  },
  "language_info": {
   "codemirror_mode": {
    "name": "ipython",
    "version": 3
   },
   "file_extension": ".py",
   "mimetype": "text/x-python",
   "name": "python",
   "nbconvert_exporter": "python",
   "pygments_lexer": "ipython3",
   "version": "3.11.7"
  }
 },
 "nbformat": 4,
 "nbformat_minor": 5
}
